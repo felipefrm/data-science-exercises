{
 "cells": [
  {
   "cell_type": "markdown",
   "metadata": {
    "id": "4iIjpdOcvMVt"
   },
   "source": [
    "Neste notebook será feita uma breve leitura, processamento e análise dos dados da base de dados IMBD 5000, base que contém uma série de informações sobre filmes, sendo uma pequena amostra da famosa base de dados IMBD."
   ]
  },
  {
   "cell_type": "code",
   "execution_count": 1,
   "metadata": {
    "colab": {
     "base_uri": "https://localhost:8080/",
     "height": 377
    },
    "id": "gxXG0HpfZ8PR",
    "outputId": "642f9228-34d3-438f-e026-31d7dfc61acb"
   },
   "outputs": [
    {
     "data": {
      "text/html": [
       "<div>\n",
       "<style scoped>\n",
       "    .dataframe tbody tr th:only-of-type {\n",
       "        vertical-align: middle;\n",
       "    }\n",
       "\n",
       "    .dataframe tbody tr th {\n",
       "        vertical-align: top;\n",
       "    }\n",
       "\n",
       "    .dataframe thead th {\n",
       "        text-align: right;\n",
       "    }\n",
       "</style>\n",
       "<table border=\"1\" class=\"dataframe\">\n",
       "  <thead>\n",
       "    <tr style=\"text-align: right;\">\n",
       "      <th></th>\n",
       "      <th>color</th>\n",
       "      <th>director_name</th>\n",
       "      <th>num_critic_for_reviews</th>\n",
       "      <th>duration</th>\n",
       "      <th>director_facebook_likes</th>\n",
       "      <th>actor_3_facebook_likes</th>\n",
       "      <th>actor_2_name</th>\n",
       "      <th>actor_1_facebook_likes</th>\n",
       "      <th>gross</th>\n",
       "      <th>genres</th>\n",
       "      <th>...</th>\n",
       "      <th>num_user_for_reviews</th>\n",
       "      <th>language</th>\n",
       "      <th>country</th>\n",
       "      <th>content_rating</th>\n",
       "      <th>budget</th>\n",
       "      <th>title_year</th>\n",
       "      <th>actor_2_facebook_likes</th>\n",
       "      <th>imdb_score</th>\n",
       "      <th>aspect_ratio</th>\n",
       "      <th>movie_facebook_likes</th>\n",
       "    </tr>\n",
       "  </thead>\n",
       "  <tbody>\n",
       "    <tr>\n",
       "      <th>0</th>\n",
       "      <td>Color</td>\n",
       "      <td>James Cameron</td>\n",
       "      <td>723.0</td>\n",
       "      <td>178.0</td>\n",
       "      <td>0.0</td>\n",
       "      <td>855.0</td>\n",
       "      <td>Joel David Moore</td>\n",
       "      <td>1000.0</td>\n",
       "      <td>760505847.0</td>\n",
       "      <td>Action|Adventure|Fantasy|Sci-Fi</td>\n",
       "      <td>...</td>\n",
       "      <td>3054.0</td>\n",
       "      <td>English</td>\n",
       "      <td>USA</td>\n",
       "      <td>PG-13</td>\n",
       "      <td>237000000.0</td>\n",
       "      <td>2009.0</td>\n",
       "      <td>936.0</td>\n",
       "      <td>7.9</td>\n",
       "      <td>1.78</td>\n",
       "      <td>33000</td>\n",
       "    </tr>\n",
       "    <tr>\n",
       "      <th>1</th>\n",
       "      <td>Color</td>\n",
       "      <td>Gore Verbinski</td>\n",
       "      <td>302.0</td>\n",
       "      <td>169.0</td>\n",
       "      <td>563.0</td>\n",
       "      <td>1000.0</td>\n",
       "      <td>Orlando Bloom</td>\n",
       "      <td>40000.0</td>\n",
       "      <td>309404152.0</td>\n",
       "      <td>Action|Adventure|Fantasy</td>\n",
       "      <td>...</td>\n",
       "      <td>1238.0</td>\n",
       "      <td>English</td>\n",
       "      <td>USA</td>\n",
       "      <td>PG-13</td>\n",
       "      <td>300000000.0</td>\n",
       "      <td>2007.0</td>\n",
       "      <td>5000.0</td>\n",
       "      <td>7.1</td>\n",
       "      <td>2.35</td>\n",
       "      <td>0</td>\n",
       "    </tr>\n",
       "    <tr>\n",
       "      <th>2</th>\n",
       "      <td>Color</td>\n",
       "      <td>Sam Mendes</td>\n",
       "      <td>602.0</td>\n",
       "      <td>148.0</td>\n",
       "      <td>0.0</td>\n",
       "      <td>161.0</td>\n",
       "      <td>Rory Kinnear</td>\n",
       "      <td>11000.0</td>\n",
       "      <td>200074175.0</td>\n",
       "      <td>Action|Adventure|Thriller</td>\n",
       "      <td>...</td>\n",
       "      <td>994.0</td>\n",
       "      <td>English</td>\n",
       "      <td>UK</td>\n",
       "      <td>PG-13</td>\n",
       "      <td>245000000.0</td>\n",
       "      <td>2015.0</td>\n",
       "      <td>393.0</td>\n",
       "      <td>6.8</td>\n",
       "      <td>2.35</td>\n",
       "      <td>85000</td>\n",
       "    </tr>\n",
       "    <tr>\n",
       "      <th>3</th>\n",
       "      <td>Color</td>\n",
       "      <td>Christopher Nolan</td>\n",
       "      <td>813.0</td>\n",
       "      <td>164.0</td>\n",
       "      <td>22000.0</td>\n",
       "      <td>23000.0</td>\n",
       "      <td>Christian Bale</td>\n",
       "      <td>27000.0</td>\n",
       "      <td>448130642.0</td>\n",
       "      <td>Action|Thriller</td>\n",
       "      <td>...</td>\n",
       "      <td>2701.0</td>\n",
       "      <td>English</td>\n",
       "      <td>USA</td>\n",
       "      <td>PG-13</td>\n",
       "      <td>250000000.0</td>\n",
       "      <td>2012.0</td>\n",
       "      <td>23000.0</td>\n",
       "      <td>8.5</td>\n",
       "      <td>2.35</td>\n",
       "      <td>164000</td>\n",
       "    </tr>\n",
       "    <tr>\n",
       "      <th>4</th>\n",
       "      <td>NaN</td>\n",
       "      <td>Doug Walker</td>\n",
       "      <td>NaN</td>\n",
       "      <td>NaN</td>\n",
       "      <td>131.0</td>\n",
       "      <td>NaN</td>\n",
       "      <td>Rob Walker</td>\n",
       "      <td>131.0</td>\n",
       "      <td>NaN</td>\n",
       "      <td>Documentary</td>\n",
       "      <td>...</td>\n",
       "      <td>NaN</td>\n",
       "      <td>NaN</td>\n",
       "      <td>NaN</td>\n",
       "      <td>NaN</td>\n",
       "      <td>NaN</td>\n",
       "      <td>NaN</td>\n",
       "      <td>12.0</td>\n",
       "      <td>7.1</td>\n",
       "      <td>NaN</td>\n",
       "      <td>0</td>\n",
       "    </tr>\n",
       "  </tbody>\n",
       "</table>\n",
       "<p>5 rows × 28 columns</p>\n",
       "</div>"
      ],
      "text/plain": [
       "   color      director_name  num_critic_for_reviews  duration  \\\n",
       "0  Color      James Cameron                   723.0     178.0   \n",
       "1  Color     Gore Verbinski                   302.0     169.0   \n",
       "2  Color         Sam Mendes                   602.0     148.0   \n",
       "3  Color  Christopher Nolan                   813.0     164.0   \n",
       "4    NaN        Doug Walker                     NaN       NaN   \n",
       "\n",
       "   director_facebook_likes  actor_3_facebook_likes      actor_2_name  \\\n",
       "0                      0.0                   855.0  Joel David Moore   \n",
       "1                    563.0                  1000.0     Orlando Bloom   \n",
       "2                      0.0                   161.0      Rory Kinnear   \n",
       "3                  22000.0                 23000.0    Christian Bale   \n",
       "4                    131.0                     NaN        Rob Walker   \n",
       "\n",
       "   actor_1_facebook_likes        gross                           genres  ...  \\\n",
       "0                  1000.0  760505847.0  Action|Adventure|Fantasy|Sci-Fi  ...   \n",
       "1                 40000.0  309404152.0         Action|Adventure|Fantasy  ...   \n",
       "2                 11000.0  200074175.0        Action|Adventure|Thriller  ...   \n",
       "3                 27000.0  448130642.0                  Action|Thriller  ...   \n",
       "4                   131.0          NaN                      Documentary  ...   \n",
       "\n",
       "  num_user_for_reviews language  country  content_rating       budget  \\\n",
       "0               3054.0  English      USA           PG-13  237000000.0   \n",
       "1               1238.0  English      USA           PG-13  300000000.0   \n",
       "2                994.0  English       UK           PG-13  245000000.0   \n",
       "3               2701.0  English      USA           PG-13  250000000.0   \n",
       "4                  NaN      NaN      NaN             NaN          NaN   \n",
       "\n",
       "   title_year actor_2_facebook_likes imdb_score  aspect_ratio  \\\n",
       "0      2009.0                  936.0        7.9          1.78   \n",
       "1      2007.0                 5000.0        7.1          2.35   \n",
       "2      2015.0                  393.0        6.8          2.35   \n",
       "3      2012.0                23000.0        8.5          2.35   \n",
       "4         NaN                   12.0        7.1           NaN   \n",
       "\n",
       "  movie_facebook_likes  \n",
       "0                33000  \n",
       "1                    0  \n",
       "2                85000  \n",
       "3               164000  \n",
       "4                    0  \n",
       "\n",
       "[5 rows x 28 columns]"
      ]
     },
     "execution_count": 1,
     "metadata": {},
     "output_type": "execute_result"
    }
   ],
   "source": [
    "import pandas as pd\n",
    "\n",
    "df = pd.read_csv('https://gist.githubusercontent.com/guilhermesilveira/24e271e68afe8fd257911217b88b2e07/raw/e70287fb1dcaad4215c3f3c9deda644058a616bc/movie_metadata.csv')\n",
    "df = df.drop_duplicates()\n",
    "df.head()"
   ]
  },
  {
   "cell_type": "markdown",
   "metadata": {
    "id": "5DPTfm9zwc-F"
   },
   "source": [
    "Primeiramente, vamos conhecer todas as colunas da base de dados:"
   ]
  },
  {
   "cell_type": "code",
   "execution_count": 2,
   "metadata": {
    "colab": {
     "base_uri": "https://localhost:8080/"
    },
    "id": "PJzatZREwlkl",
    "outputId": "89fa2ac3-105a-4d04-c2ad-29d0f785f2dc"
   },
   "outputs": [
    {
     "data": {
      "text/plain": [
       "array(['color', 'director_name', 'num_critic_for_reviews', 'duration',\n",
       "       'director_facebook_likes', 'actor_3_facebook_likes',\n",
       "       'actor_2_name', 'actor_1_facebook_likes', 'gross', 'genres',\n",
       "       'actor_1_name', 'movie_title', 'num_voted_users',\n",
       "       'cast_total_facebook_likes', 'actor_3_name',\n",
       "       'facenumber_in_poster', 'plot_keywords', 'movie_imdb_link',\n",
       "       'num_user_for_reviews', 'language', 'country', 'content_rating',\n",
       "       'budget', 'title_year', 'actor_2_facebook_likes', 'imdb_score',\n",
       "       'aspect_ratio', 'movie_facebook_likes'], dtype=object)"
      ]
     },
     "execution_count": 2,
     "metadata": {},
     "output_type": "execute_result"
    }
   ],
   "source": [
    "df.columns.values"
   ]
  },
  {
   "cell_type": "markdown",
   "metadata": {
    "id": "8TYwPifEGJk9"
   },
   "source": [
    "A feature 'num_critic_for_review' informa a quantidade de críticas em cada filme, podemos retirar boas informações a partir dela."
   ]
  },
  {
   "cell_type": "code",
   "execution_count": 3,
   "metadata": {
    "colab": {
     "base_uri": "https://localhost:8080/"
    },
    "id": "xIw_qCyv1LXP",
    "outputId": "038ad842-913b-4827-f7f2-dc721640648d"
   },
   "outputs": [
    {
     "data": {
      "text/plain": [
       "0       723.0\n",
       "1       302.0\n",
       "2       602.0\n",
       "3       813.0\n",
       "4         NaN\n",
       "        ...  \n",
       "5038      1.0\n",
       "5039     43.0\n",
       "5040     13.0\n",
       "5041     14.0\n",
       "5042     43.0\n",
       "Name: num_critic_for_reviews, Length: 4998, dtype: float64"
      ]
     },
     "execution_count": 3,
     "metadata": {},
     "output_type": "execute_result"
    }
   ],
   "source": [
    "df[\"num_critic_for_reviews\"]"
   ]
  },
  {
   "cell_type": "code",
   "execution_count": 4,
   "metadata": {
    "colab": {
     "base_uri": "https://localhost:8080/"
    },
    "id": "xjHj426g1Sbk",
    "outputId": "67411123-a177-4019-b0e8-23f7c45c1c0c"
   },
   "outputs": [
    {
     "data": {
      "text/plain": [
       "count    4949.000000\n",
       "mean      139.890079\n",
       "std       121.477586\n",
       "min         1.000000\n",
       "25%        50.000000\n",
       "50%       110.000000\n",
       "75%       195.000000\n",
       "max       813.000000\n",
       "Name: num_critic_for_reviews, dtype: float64"
      ]
     },
     "execution_count": 4,
     "metadata": {},
     "output_type": "execute_result"
    }
   ],
   "source": [
    "df[\"num_critic_for_reviews\"].describe()"
   ]
  },
  {
   "cell_type": "markdown",
   "metadata": {
    "id": "b5MS4OA11XP6"
   },
   "source": [
    "Vamos plotar um histograma para visualizar e avaliar melhor estes dados:"
   ]
  },
  {
   "cell_type": "code",
   "execution_count": 5,
   "metadata": {
    "colab": {
     "base_uri": "https://localhost:8080/",
     "height": 297
    },
    "id": "pUOpT9w51k3T",
    "outputId": "43112915-24ed-4395-86f7-eb1f625b9263"
   },
   "outputs": [
    {
     "data": {
      "text/plain": [
       "<AxesSubplot:xlabel='num_critic_for_reviews', ylabel='Count'>"
      ]
     },
     "execution_count": 5,
     "metadata": {},
     "output_type": "execute_result"
    },
    {
     "data": {
      "image/png": "[encoded data removed]",
      "text/plain": [
       "<Figure size 432x288 with 1 Axes>"
      ]
     },
     "metadata": {
      "needs_background": "light"
     },
     "output_type": "display_data"
    }
   ],
   "source": [
    "import seaborn as sns\n",
    "\n",
    "sns.histplot(data=df, x=\"num_critic_for_reviews\", bins=10)"
   ]
  },
  {
   "cell_type": "markdown",
   "metadata": {
    "id": "8mElreaZ2KhN"
   },
   "source": [
    "É possível observar um número bem reduzido de filmes com mais de 500 críticas. Nota-se que poucos filmes tem muitas críticas e muitos filmes possuem um número pequeno de críticas. Uma hipótese é que filmes populares tendem a ter um número maior de avaliações e a quantidade de filmes populares não é tão grande, enquanto que filmes não tão populares não são recorrentemente avaliados, vamos tentar validar está hipotese?"
   ]
  },
  {
   "cell_type": "markdown",
   "metadata": {
    "id": "vosRk9w-82fm"
   },
   "source": [
    "Existe uma coluna nesse dataset que mostra a quantidade de likes que o filme recebeu no facebook (\"movie_facebook_likes\"), podendo ser um bom medidor de popularidade do filme, vamos usar esta coluna para tentar validar está hipótese:"
   ]
  },
  {
   "cell_type": "markdown",
   "metadata": {
    "id": "5n0l4TX79P31"
   },
   "source": [
    "Primeiramente, vamos ver a popularidade dos filmes com um número de críticas maior que 500:"
   ]
  },
  {
   "cell_type": "code",
   "execution_count": 6,
   "metadata": {
    "colab": {
     "base_uri": "https://localhost:8080/"
    },
    "id": "swvKCIAO3Di3",
    "outputId": "86ded2b9-713f-4c2d-c93f-33ab598d7495"
   },
   "outputs": [
    {
     "data": {
      "text/plain": [
       "count        81.000000\n",
       "mean      94395.061728\n",
       "std       53632.238209\n",
       "min       19000.000000\n",
       "25%       56000.000000\n",
       "50%       82000.000000\n",
       "75%      123000.000000\n",
       "max      349000.000000\n",
       "Name: movie_facebook_likes, dtype: float64"
      ]
     },
     "execution_count": 6,
     "metadata": {},
     "output_type": "execute_result"
    }
   ],
   "source": [
    "df[df[\"num_critic_for_reviews\"] > 500][\"movie_facebook_likes\"].describe()"
   ]
  },
  {
   "cell_type": "markdown",
   "metadata": {
    "id": "siF1CYby-FsM"
   },
   "source": [
    "Vemos que existem apenas 81 filmes com mais de 500 críticas, tendo estes filmes, em média, 94395 curtidas no facebook."
   ]
  },
  {
   "cell_type": "markdown",
   "metadata": {
    "id": "blob4u_c-6Do"
   },
   "source": [
    "Vamos, agora, a popularidade dos filmes com um número de críticas menor ou igual a 500:"
   ]
  },
  {
   "cell_type": "code",
   "execution_count": 7,
   "metadata": {
    "colab": {
     "base_uri": "https://localhost:8080/"
    },
    "id": "JYIb-cRn8QY0",
    "outputId": "305f9fbf-c3ab-4800-d081-96460f1a358b"
   },
   "outputs": [
    {
     "data": {
      "text/plain": [
       "count      4868.000000\n",
       "mean       6115.892153\n",
       "std       14375.556221\n",
       "min           0.000000\n",
       "25%           0.000000\n",
       "50%         147.500000\n",
       "75%        2000.000000\n",
       "max      165000.000000\n",
       "Name: movie_facebook_likes, dtype: float64"
      ]
     },
     "execution_count": 7,
     "metadata": {},
     "output_type": "execute_result"
    }
   ],
   "source": [
    "df[df[\"num_critic_for_reviews\"] <= 500][\"movie_facebook_likes\"].describe()"
   ]
  },
  {
   "cell_type": "markdown",
   "metadata": {
    "id": "wckRl688-a0K"
   },
   "source": [
    "Observamos que a média de curtidas no facebook para estes filmes é de 6145 curtidas. "
   ]
  },
  {
   "cell_type": "markdown",
   "metadata": {
    "id": "Nnxapd5kACB9"
   },
   "source": [
    "Logo, os filmes com mais de 500 críticas tem uma média de curtidas no facebook 15 maior que a média de curtidas no facebook para filmes com menor de 500 críticas, confirmando assim a nossa hipótese."
   ]
  },
  {
   "cell_type": "markdown",
   "metadata": {
    "id": "UW002JQ2-Z4s"
   },
   "source": [
    "Outra informação interessante de se analisar, são os orçamentos e receitas de um filme, ou seja o aspecto financeiro. Vamos começar pelo gross (faturamento):"
   ]
  },
  {
   "cell_type": "code",
   "execution_count": 8,
   "metadata": {
    "colab": {
     "base_uri": "https://localhost:8080/",
     "height": 296
    },
    "id": "GW5bwdEfA9z6",
    "outputId": "c2e33ee7-974e-4667-a791-730d6f50d6f9"
   },
   "outputs": [
    {
     "data": {
      "text/plain": [
       "<AxesSubplot:xlabel='gross', ylabel='Count'>"
      ]
     },
     "execution_count": 8,
     "metadata": {},
     "output_type": "execute_result"
    },
    {
     "data": {
      "image/png": "[encoded data removed]",
      "text/plain": [
       "<Figure size 432x288 with 1 Axes>"
      ]
     },
     "metadata": {
      "needs_background": "light"
     },
     "output_type": "display_data"
    }
   ],
   "source": [
    "sns.histplot(data=df, x=\"gross\", bins=10)"
   ]
  },
  {
   "cell_type": "markdown",
   "metadata": {
    "id": "1g8hMMOSEUSe"
   },
   "source": [
    "Aqui, obseramos a mesma tendência vista no número de críticas. Poucos filmes possuem um alto faturamento e muitos filmes possuem um baixo faturamento."
   ]
  },
  {
   "cell_type": "markdown",
   "metadata": {
    "id": "t5CQNvM7ErrI"
   },
   "source": [
    "Só por curiosidade, vamos conhecer quais são estes filmes que obtiveram um faturamento astronômico."
   ]
  },
  {
   "cell_type": "code",
   "execution_count": 9,
   "metadata": {
    "colab": {
     "base_uri": "https://localhost:8080/",
     "height": 359
    },
    "id": "ipYr2m3vE0R8",
    "outputId": "d0aa11a7-f582-4e19-f41e-728e95fb7c62"
   },
   "outputs": [
    {
     "data": {
      "text/html": [
       "<div>\n",
       "<style scoped>\n",
       "    .dataframe tbody tr th:only-of-type {\n",
       "        vertical-align: middle;\n",
       "    }\n",
       "\n",
       "    .dataframe tbody tr th {\n",
       "        vertical-align: top;\n",
       "    }\n",
       "\n",
       "    .dataframe thead th {\n",
       "        text-align: right;\n",
       "    }\n",
       "</style>\n",
       "<table border=\"1\" class=\"dataframe\">\n",
       "  <thead>\n",
       "    <tr style=\"text-align: right;\">\n",
       "      <th></th>\n",
       "      <th>movie_title</th>\n",
       "      <th>gross</th>\n",
       "    </tr>\n",
       "  </thead>\n",
       "  <tbody>\n",
       "    <tr>\n",
       "      <th>0</th>\n",
       "      <td>Avatar</td>\n",
       "      <td>760505847.0</td>\n",
       "    </tr>\n",
       "    <tr>\n",
       "      <th>26</th>\n",
       "      <td>Titanic</td>\n",
       "      <td>658672302.0</td>\n",
       "    </tr>\n",
       "    <tr>\n",
       "      <th>29</th>\n",
       "      <td>Jurassic World</td>\n",
       "      <td>652177271.0</td>\n",
       "    </tr>\n",
       "    <tr>\n",
       "      <th>17</th>\n",
       "      <td>The Avengers</td>\n",
       "      <td>623279547.0</td>\n",
       "    </tr>\n",
       "    <tr>\n",
       "      <th>66</th>\n",
       "      <td>The Dark Knight</td>\n",
       "      <td>533316061.0</td>\n",
       "    </tr>\n",
       "    <tr>\n",
       "      <th>240</th>\n",
       "      <td>Star Wars: Episode I - The Phantom Menace</td>\n",
       "      <td>474544677.0</td>\n",
       "    </tr>\n",
       "    <tr>\n",
       "      <th>3024</th>\n",
       "      <td>Star Wars: Episode IV - A New Hope</td>\n",
       "      <td>460935665.0</td>\n",
       "    </tr>\n",
       "    <tr>\n",
       "      <th>8</th>\n",
       "      <td>Avengers: Age of Ultron</td>\n",
       "      <td>458991599.0</td>\n",
       "    </tr>\n",
       "    <tr>\n",
       "      <th>3</th>\n",
       "      <td>The Dark Knight Rises</td>\n",
       "      <td>448130642.0</td>\n",
       "    </tr>\n",
       "    <tr>\n",
       "      <th>582</th>\n",
       "      <td>Shrek 2</td>\n",
       "      <td>436471036.0</td>\n",
       "    </tr>\n",
       "  </tbody>\n",
       "</table>\n",
       "</div>"
      ],
      "text/plain": [
       "                                     movie_title        gross\n",
       "0                                        Avatar   760505847.0\n",
       "26                                      Titanic   658672302.0\n",
       "29                               Jurassic World   652177271.0\n",
       "17                                 The Avengers   623279547.0\n",
       "66                              The Dark Knight   533316061.0\n",
       "240   Star Wars: Episode I - The Phantom Menace   474544677.0\n",
       "3024         Star Wars: Episode IV - A New Hope   460935665.0\n",
       "8                       Avengers: Age of Ultron   458991599.0\n",
       "3                         The Dark Knight Rises   448130642.0\n",
       "582                                     Shrek 2   436471036.0"
      ]
     },
     "execution_count": 9,
     "metadata": {},
     "output_type": "execute_result"
    }
   ],
   "source": [
    "df.sort_values(\"gross\", ascending=False)[[\"movie_title\", \"gross\"]].head(10)"
   ]
  },
  {
   "cell_type": "markdown",
   "metadata": {
    "id": "8PJwn97MGqDT"
   },
   "source": [
    "Vamos fazer uma investigação da relação entre o faturamento e orçamento dos filmes."
   ]
  },
  {
   "cell_type": "markdown",
   "metadata": {
    "id": "vIGCy9FEG5rq"
   },
   "source": [
    "A seguir, um plot de um gráfico que mostra a relação entre faturamento e orçamento:"
   ]
  },
  {
   "cell_type": "code",
   "execution_count": 10,
   "metadata": {
    "colab": {
     "base_uri": "https://localhost:8080/",
     "height": 307
    },
    "id": "1B1DllWiHFBG",
    "outputId": "452cc992-043a-402a-ed32-bab7fdcddc6c"
   },
   "outputs": [
    {
     "data": {
      "text/plain": [
       "<AxesSubplot:xlabel='budget', ylabel='gross'>"
      ]
     },
     "execution_count": 10,
     "metadata": {},
     "output_type": "execute_result"
    },
    {
     "data": {
      "image/png": "[encoded data removed]",
      "text/plain": [
       "<Figure size 432x288 with 1 Axes>"
      ]
     },
     "metadata": {
      "needs_background": "light"
     },
     "output_type": "display_data"
    }
   ],
   "source": [
    "gross_budget = df[[\"budget\", \"gross\"]].dropna().query(\"budget >0 | gross > 0\")\n",
    "\n",
    "sns.scatterplot(x=\"budget\", y=\"gross\", data = gross_budget)"
   ]
  },
  {
   "cell_type": "markdown",
   "metadata": {
    "id": "57wl9K91KKT1"
   },
   "source": [
    "Com o gráfico, observamos um filme com um budget (orçamento) extremamente alto, mas o gross (faturamento) está bem baixo. Vamos ver que filme é esse, e analisar se há algo de errado com estes dados ou não. "
   ]
  },
  {
   "cell_type": "code",
   "execution_count": 11,
   "metadata": {
    "colab": {
     "base_uri": "https://localhost:8080/",
     "height": 326
    },
    "id": "Svvcf7inKpga",
    "outputId": "cf8dc32c-37ba-4024-83c9-1bbb362c7aa0"
   },
   "outputs": [
    {
     "data": {
      "text/html": [
       "<div>\n",
       "<style scoped>\n",
       "    .dataframe tbody tr th:only-of-type {\n",
       "        vertical-align: middle;\n",
       "    }\n",
       "\n",
       "    .dataframe tbody tr th {\n",
       "        vertical-align: top;\n",
       "    }\n",
       "\n",
       "    .dataframe thead th {\n",
       "        text-align: right;\n",
       "    }\n",
       "</style>\n",
       "<table border=\"1\" class=\"dataframe\">\n",
       "  <thead>\n",
       "    <tr style=\"text-align: right;\">\n",
       "      <th></th>\n",
       "      <th>color</th>\n",
       "      <th>director_name</th>\n",
       "      <th>num_critic_for_reviews</th>\n",
       "      <th>duration</th>\n",
       "      <th>director_facebook_likes</th>\n",
       "      <th>actor_3_facebook_likes</th>\n",
       "      <th>actor_2_name</th>\n",
       "      <th>actor_1_facebook_likes</th>\n",
       "      <th>gross</th>\n",
       "      <th>genres</th>\n",
       "      <th>...</th>\n",
       "      <th>num_user_for_reviews</th>\n",
       "      <th>language</th>\n",
       "      <th>country</th>\n",
       "      <th>content_rating</th>\n",
       "      <th>budget</th>\n",
       "      <th>title_year</th>\n",
       "      <th>actor_2_facebook_likes</th>\n",
       "      <th>imdb_score</th>\n",
       "      <th>aspect_ratio</th>\n",
       "      <th>movie_facebook_likes</th>\n",
       "    </tr>\n",
       "  </thead>\n",
       "  <tbody>\n",
       "    <tr>\n",
       "      <th>2988</th>\n",
       "      <td>Color</td>\n",
       "      <td>Joon-ho Bong</td>\n",
       "      <td>363.0</td>\n",
       "      <td>110.0</td>\n",
       "      <td>584.0</td>\n",
       "      <td>74.0</td>\n",
       "      <td>Kang-ho Song</td>\n",
       "      <td>629.0</td>\n",
       "      <td>2201412.0</td>\n",
       "      <td>Comedy|Drama|Horror|Sci-Fi</td>\n",
       "      <td>...</td>\n",
       "      <td>279.0</td>\n",
       "      <td>Korean</td>\n",
       "      <td>South Korea</td>\n",
       "      <td>R</td>\n",
       "      <td>1.221550e+10</td>\n",
       "      <td>2006.0</td>\n",
       "      <td>398.0</td>\n",
       "      <td>7.0</td>\n",
       "      <td>1.85</td>\n",
       "      <td>7000</td>\n",
       "    </tr>\n",
       "    <tr>\n",
       "      <th>3859</th>\n",
       "      <td>Color</td>\n",
       "      <td>Chan-wook Park</td>\n",
       "      <td>202.0</td>\n",
       "      <td>112.0</td>\n",
       "      <td>0.0</td>\n",
       "      <td>38.0</td>\n",
       "      <td>Yeong-ae Lee</td>\n",
       "      <td>717.0</td>\n",
       "      <td>211667.0</td>\n",
       "      <td>Crime|Drama</td>\n",
       "      <td>...</td>\n",
       "      <td>131.0</td>\n",
       "      <td>Korean</td>\n",
       "      <td>South Korea</td>\n",
       "      <td>R</td>\n",
       "      <td>4.200000e+09</td>\n",
       "      <td>2005.0</td>\n",
       "      <td>126.0</td>\n",
       "      <td>7.7</td>\n",
       "      <td>2.35</td>\n",
       "      <td>4000</td>\n",
       "    </tr>\n",
       "    <tr>\n",
       "      <th>3005</th>\n",
       "      <td>Color</td>\n",
       "      <td>Lajos Koltai</td>\n",
       "      <td>73.0</td>\n",
       "      <td>134.0</td>\n",
       "      <td>45.0</td>\n",
       "      <td>0.0</td>\n",
       "      <td>Péter Fancsikai</td>\n",
       "      <td>9.0</td>\n",
       "      <td>195888.0</td>\n",
       "      <td>Drama|Romance|War</td>\n",
       "      <td>...</td>\n",
       "      <td>45.0</td>\n",
       "      <td>Hungarian</td>\n",
       "      <td>Hungary</td>\n",
       "      <td>R</td>\n",
       "      <td>2.500000e+09</td>\n",
       "      <td>2005.0</td>\n",
       "      <td>2.0</td>\n",
       "      <td>7.1</td>\n",
       "      <td>2.35</td>\n",
       "      <td>607</td>\n",
       "    </tr>\n",
       "    <tr>\n",
       "      <th>2323</th>\n",
       "      <td>Color</td>\n",
       "      <td>Hayao Miyazaki</td>\n",
       "      <td>174.0</td>\n",
       "      <td>134.0</td>\n",
       "      <td>6000.0</td>\n",
       "      <td>745.0</td>\n",
       "      <td>Jada Pinkett Smith</td>\n",
       "      <td>893.0</td>\n",
       "      <td>2298191.0</td>\n",
       "      <td>Adventure|Animation|Fantasy</td>\n",
       "      <td>...</td>\n",
       "      <td>570.0</td>\n",
       "      <td>Japanese</td>\n",
       "      <td>Japan</td>\n",
       "      <td>PG-13</td>\n",
       "      <td>2.400000e+09</td>\n",
       "      <td>1997.0</td>\n",
       "      <td>851.0</td>\n",
       "      <td>8.4</td>\n",
       "      <td>1.85</td>\n",
       "      <td>11000</td>\n",
       "    </tr>\n",
       "    <tr>\n",
       "      <th>2334</th>\n",
       "      <td>Color</td>\n",
       "      <td>Katsuhiro Ôtomo</td>\n",
       "      <td>105.0</td>\n",
       "      <td>103.0</td>\n",
       "      <td>78.0</td>\n",
       "      <td>101.0</td>\n",
       "      <td>Robin Atkin Downes</td>\n",
       "      <td>488.0</td>\n",
       "      <td>410388.0</td>\n",
       "      <td>Action|Adventure|Animation|Family|Sci-Fi|Thriller</td>\n",
       "      <td>...</td>\n",
       "      <td>79.0</td>\n",
       "      <td>Japanese</td>\n",
       "      <td>Japan</td>\n",
       "      <td>PG-13</td>\n",
       "      <td>2.127520e+09</td>\n",
       "      <td>2004.0</td>\n",
       "      <td>336.0</td>\n",
       "      <td>6.9</td>\n",
       "      <td>1.85</td>\n",
       "      <td>973</td>\n",
       "    </tr>\n",
       "  </tbody>\n",
       "</table>\n",
       "<p>5 rows × 28 columns</p>\n",
       "</div>"
      ],
      "text/plain": [
       "      color    director_name  num_critic_for_reviews  duration  \\\n",
       "2988  Color     Joon-ho Bong                   363.0     110.0   \n",
       "3859  Color   Chan-wook Park                   202.0     112.0   \n",
       "3005  Color     Lajos Koltai                    73.0     134.0   \n",
       "2323  Color   Hayao Miyazaki                   174.0     134.0   \n",
       "2334  Color  Katsuhiro Ôtomo                   105.0     103.0   \n",
       "\n",
       "      director_facebook_likes  actor_3_facebook_likes        actor_2_name  \\\n",
       "2988                    584.0                    74.0        Kang-ho Song   \n",
       "3859                      0.0                    38.0        Yeong-ae Lee   \n",
       "3005                     45.0                     0.0     Péter Fancsikai   \n",
       "2323                   6000.0                   745.0  Jada Pinkett Smith   \n",
       "2334                     78.0                   101.0  Robin Atkin Downes   \n",
       "\n",
       "      actor_1_facebook_likes      gross  \\\n",
       "2988                   629.0  2201412.0   \n",
       "3859                   717.0   211667.0   \n",
       "3005                     9.0   195888.0   \n",
       "2323                   893.0  2298191.0   \n",
       "2334                   488.0   410388.0   \n",
       "\n",
       "                                                 genres  ...  \\\n",
       "2988                         Comedy|Drama|Horror|Sci-Fi  ...   \n",
       "3859                                        Crime|Drama  ...   \n",
       "3005                                  Drama|Romance|War  ...   \n",
       "2323                        Adventure|Animation|Fantasy  ...   \n",
       "2334  Action|Adventure|Animation|Family|Sci-Fi|Thriller  ...   \n",
       "\n",
       "     num_user_for_reviews   language      country  content_rating  \\\n",
       "2988                279.0     Korean  South Korea               R   \n",
       "3859                131.0     Korean  South Korea               R   \n",
       "3005                 45.0  Hungarian      Hungary               R   \n",
       "2323                570.0   Japanese        Japan           PG-13   \n",
       "2334                 79.0   Japanese        Japan           PG-13   \n",
       "\n",
       "            budget  title_year actor_2_facebook_likes imdb_score  \\\n",
       "2988  1.221550e+10      2006.0                  398.0        7.0   \n",
       "3859  4.200000e+09      2005.0                  126.0        7.7   \n",
       "3005  2.500000e+09      2005.0                    2.0        7.1   \n",
       "2323  2.400000e+09      1997.0                  851.0        8.4   \n",
       "2334  2.127520e+09      2004.0                  336.0        6.9   \n",
       "\n",
       "      aspect_ratio movie_facebook_likes  \n",
       "2988          1.85                 7000  \n",
       "3859          2.35                 4000  \n",
       "3005          2.35                  607  \n",
       "2323          1.85                11000  \n",
       "2334          1.85                  973  \n",
       "\n",
       "[5 rows x 28 columns]"
      ]
     },
     "execution_count": 11,
     "metadata": {},
     "output_type": "execute_result"
    }
   ],
   "source": [
    "df.sort_values(\"budget\", ascending=False).head()"
   ]
  },
  {
   "cell_type": "markdown",
   "metadata": {
    "id": "EkTCvGkMLHx8"
   },
   "source": [
    "Observando os dados dos 5 filmes com maiores orçamentos, observamos que 4 deles são de origem asiáticas. Mas o mais curioso é quando analisamos a coluna que usamos anteriormente para mensurar a popularidade do filme, estes 5 filmes possuem uma quantidade muito baixa de curtidas no facebook, e também não possuem muitas críticas. Existem duas hipóteses neste caso, ou estes filmes foram casos de fracassos, havendo um orçamento astronomico com uma popularidade e faturamento pífio, ou então, os dados estão inválidos, talvez devido a um erro de conversão de moedas ou algo assim."
   ]
  },
  {
   "cell_type": "markdown",
   "metadata": {
    "id": "op0-ptfDMjTp"
   },
   "source": [
    "Neste caso, vamos focar nossa análise de orçamento x faturamento, apenas em um único país para descartarmos a possibilidade de erros de conversão de moedas. Vamos ver qual país possui um maior número de filmes nesta base de dados:"
   ]
  },
  {
   "cell_type": "code",
   "execution_count": 12,
   "metadata": {
    "colab": {
     "base_uri": "https://localhost:8080/"
    },
    "id": "ynte5EWeM3d-",
    "outputId": "014ad73e-9790-40db-f569-7ccc6a63d9f5"
   },
   "outputs": [
    {
     "data": {
      "text/plain": [
       "USA                   3773\n",
       "UK                     443\n",
       "France                 154\n",
       "Canada                 124\n",
       "Germany                 96\n",
       "                      ... \n",
       "Kenya                    1\n",
       "Aruba                    1\n",
       "Chile                    1\n",
       "Dominican Republic       1\n",
       "Official site            1\n",
       "Name: country, Length: 65, dtype: int64"
      ]
     },
     "execution_count": 12,
     "metadata": {},
     "output_type": "execute_result"
    }
   ],
   "source": [
    "df[\"country\"].value_counts()"
   ]
  },
  {
   "cell_type": "code",
   "execution_count": 13,
   "metadata": {
    "colab": {
     "base_uri": "https://localhost:8080/"
    },
    "id": "6y8cKYtxkjUj",
    "outputId": "e664347d-945c-4db3-85ec-6f702c3b4638"
   },
   "outputs": [
    {
     "data": {
      "text/plain": [
       "USA                   0.755658\n",
       "UK                    0.088724\n",
       "France                0.030843\n",
       "Canada                0.024835\n",
       "Germany               0.019227\n",
       "                        ...   \n",
       "Kenya                 0.000200\n",
       "Aruba                 0.000200\n",
       "Chile                 0.000200\n",
       "Dominican Republic    0.000200\n",
       "Official site         0.000200\n",
       "Name: country, Length: 65, dtype: float64"
      ]
     },
     "execution_count": 13,
     "metadata": {},
     "output_type": "execute_result"
    }
   ],
   "source": [
    "df[\"country\"].value_counts(normalize=True)"
   ]
  },
  {
   "cell_type": "markdown",
   "metadata": {
    "id": "pYRqXDXAksfq"
   },
   "source": [
    "Filmes de origem de USA correspondem a 75% deste conjunto de dados, logo vamos focar nossa análise neste subconjunto de filmes."
   ]
  },
  {
   "cell_type": "markdown",
   "metadata": {
    "id": "2ZAcq8qGlMZi"
   },
   "source": [
    "Vamos então, novamente, plotar o gráfico de orçamento x faturamento, desta vez filtrando o nosso dataset pelos filmes produzidos em USA:"
   ]
  },
  {
   "cell_type": "code",
   "execution_count": 14,
   "metadata": {
    "colab": {
     "base_uri": "https://localhost:8080/",
     "height": 307
    },
    "id": "Qhxl2leGldrj",
    "outputId": "93d6a340-39f8-4d81-fb9a-0fede2164e6c"
   },
   "outputs": [
    {
     "data": {
      "text/plain": [
       "<AxesSubplot:xlabel='budget', ylabel='gross'>"
      ]
     },
     "execution_count": 14,
     "metadata": {},
     "output_type": "execute_result"
    },
    {
     "data": {
      "image/png": "[encoded data removed]",
      "text/plain": [
       "<Figure size 432x288 with 1 Axes>"
      ]
     },
     "metadata": {
      "needs_background": "light"
     },
     "output_type": "display_data"
    }
   ],
   "source": [
    "usa_df = df[df[\"country\"] == \"USA\"]\n",
    "\n",
    "gross_budget_usa = usa_df[[\"budget\", \"gross\"]].dropna().query(\"budget >0 | gross > 0\")\n",
    "\n",
    "sns.scatterplot(x=\"budget\", y=\"gross\", data = gross_budget_usa)"
   ]
  },
  {
   "cell_type": "markdown",
   "metadata": {
    "id": "wd5hx08roTTD"
   },
   "source": [
    "Agora sim, não temos nenhum dado discrepante e podemos melhor analisar e tirar informações desse gráfico."
   ]
  },
  {
   "cell_type": "markdown",
   "metadata": {
    "id": "FrA4UdWRqHZ9"
   },
   "source": [
    " Parece haver uma relação entre orçamento e faturamento. Quanto maior o orçamento, maior o faturamento. O que de certa forma é de se esperar na maioria dos casos, se não, não seria vantajoso produzir filmes, pois nunca haveria lucro."
   ]
  },
  {
   "cell_type": "markdown",
   "metadata": {
    "id": "7bAWMpVNraFJ"
   },
   "source": [
    "Por falar em lucro, não temos uma coluna no dataset que informe o lucro do filme. Porém, sabemos o orçamento e o faturamento, logo podemos obter o lucro de cada filme. Vamos fazer isso criando uma nova coluna no conjunto de dados sendo o resultado da subtração do orçamento no faturamento."
   ]
  },
  {
   "cell_type": "code",
   "execution_count": 15,
   "metadata": {
    "colab": {
     "base_uri": "https://localhost:8080/"
    },
    "id": "rRUyxlUQr2az",
    "outputId": "2b43fe2e-5433-47a2-c950-3d8d6f4523fe"
   },
   "outputs": [
    {
     "name": "stderr",
     "output_type": "stream",
     "text": [
      "<ipython-input-15-24176da9239c>:1: SettingWithCopyWarning: \n",
      "A value is trying to be set on a copy of a slice from a DataFrame.\n",
      "Try using .loc[row_indexer,col_indexer] = value instead\n",
      "\n",
      "See the caveats in the documentation: https://pandas.pydata.org/pandas-docs/stable/user_guide/indexing.html#returning-a-view-versus-a-copy\n",
      "  usa_df['profit'] = usa_df['gross'] - usa_df['budget']\n"
     ]
    },
    {
     "data": {
      "text/plain": [
       "count    3.047000e+03\n",
       "mean     1.718710e+07\n",
       "std      5.516740e+07\n",
       "min     -1.906413e+08\n",
       "25%     -8.747974e+06\n",
       "50%      3.257792e+06\n",
       "75%      3.041335e+07\n",
       "max      5.235058e+08\n",
       "Name: profit, dtype: float64"
      ]
     },
     "execution_count": 15,
     "metadata": {},
     "output_type": "execute_result"
    }
   ],
   "source": [
    "usa_df['profit'] = usa_df['gross'] - usa_df['budget']\n",
    "\n",
    "usa_df['profit'].describe()"
   ]
  },
  {
   "cell_type": "markdown",
   "metadata": {
    "id": "c-9TRW6Ls5yU"
   },
   "source": [
    "Vamos agora, analisar o lucro obtido pelos filmes em função do ano em que eles foram lançados:"
   ]
  },
  {
   "cell_type": "code",
   "execution_count": 16,
   "metadata": {
    "colab": {
     "base_uri": "https://localhost:8080/",
     "height": 308
    },
    "id": "lqoQqYE6znDb",
    "outputId": "8cbb48e9-8957-4e31-c363-260e5a53f07b"
   },
   "outputs": [
    {
     "data": {
      "text/plain": [
       "<AxesSubplot:xlabel='title_year', ylabel='profit'>"
      ]
     },
     "execution_count": 16,
     "metadata": {},
     "output_type": "execute_result"
    },
    {
     "data": {
      "image/png": "[encoded data removed]",
      "text/plain": [
       "<Figure size 432x288 with 1 Axes>"
      ]
     },
     "metadata": {
      "needs_background": "light"
     },
     "output_type": "display_data"
    }
   ],
   "source": [
    "year_profit = usa_df.query(\"budget >0 | gross > 0\")[[\"title_year\", \"profit\"]].dropna()\n",
    "\n",
    "sns.scatterplot(x=\"title_year\", y=\"profit\", data = year_profit)"
   ]
  },
  {
   "cell_type": "markdown",
   "metadata": {
    "id": "gixbIPpjzxr-"
   },
   "source": [
    "Constatamos que o lucro na indústria cinematográfica tem aumentado ao passar dos anos, o que é de se esperar, pois a cada ano que passa mais recursos tem sido utilizados para a produção de filmes. \n",
    "\n",
    "Em contrapartida, parece que quando há prejuizo, a chance dele ser alto tem sido maior a cada ano. Podemos pensar em duas hipóteses para isso: de fato o filme gerou um grande prejuízo ou o faturamento do filme ainda não conseguiu superar o orçamento, porém o faturamento ainda está aumentado, o que ocorre no caso de filmes recém-lançados. \n",
    "\n",
    "Vamos plotar um gráfico que mostra a média do lucro dos filmes em função do ano para tentar responder a essa questão:"
   ]
  },
  {
   "cell_type": "code",
   "execution_count": 17,
   "metadata": {
    "colab": {
     "base_uri": "https://localhost:8080/",
     "height": 290
    },
    "id": "wAj5kJ8Y0-O1",
    "outputId": "6dcfb9e8-a042-443d-c92b-0ddf82ddade5"
   },
   "outputs": [
    {
     "data": {
      "image/png": "[encoded data removed]",
      "text/plain": [
       "<Figure size 864x288 with 1 Axes>"
      ]
     },
     "metadata": {
      "needs_background": "light"
     },
     "output_type": "display_data"
    }
   ],
   "source": [
    "import matplotlib.pyplot as plt\n",
    "\n",
    "plt.figure(figsize=(12,4))\n",
    "lucro_por_ano = usa_df.query(\"title_year >= 2000\").groupby(\"title_year\").mean()[\"profit\"]\n",
    "lucro_por_ano.plot(xticks=lucro_por_ano.keys())\n",
    "plt.ylabel(\"lucro\")\n",
    "plt.xlabel(\"ano de lançamento\")\n",
    "plt.show()"
   ]
  },
  {
   "cell_type": "markdown",
   "metadata": {
    "id": "1RGkY_uu2FTQ"
   },
   "source": [
    "Como pode ser visto, de 2015 para 2016 houve uma grande queda no lucro dos filmes. Será que realmente aconteceu essa queda de lucro no ano de 2016?"
   ]
  },
  {
   "cell_type": "code",
   "execution_count": 18,
   "metadata": {
    "colab": {
     "base_uri": "https://localhost:8080/"
    },
    "id": "2QxOW3m72lFY",
    "outputId": "f19f32ad-3293-437a-e688-b891f3618fba"
   },
   "outputs": [
    {
     "data": {
      "text/plain": [
       "2016.0     75\n",
       "2015.0    168\n",
       "2014.0    183\n",
       "2013.0    171\n",
       "2012.0    170\n",
       "2011.0    164\n",
       "2010.0    166\n",
       "2009.0    183\n",
       "2008.0    163\n",
       "2007.0    150\n",
       "Name: title_year, dtype: int64"
      ]
     },
     "execution_count": 18,
     "metadata": {},
     "output_type": "execute_result"
    }
   ],
   "source": [
    "usa_df['title_year'].value_counts().sort_index(ascending=False).head(10)"
   ]
  },
  {
   "cell_type": "markdown",
   "metadata": {
    "id": "YN7kOKtb3IEz"
   },
   "source": [
    "Respondendo a pergunta anterior... Pode-se observar, que a quantidade de filmes lançados em 2016 é bem pequena em relação aos anos anteriores. O que leva a teoria de que a base de dados pode ter sido coletada no ano de 2016 ou algo bem proximo disso, influenciando, assim, no lucro final. Aumentando os indícios de que o grande lucro negativo pode ser devido ao fato de os filmes recém-lançados ainda estão recuperando o valor investido."
   ]
  },
  {
   "cell_type": "markdown",
   "metadata": {
    "id": "zjz4JkTi4bkU"
   },
   "source": [
    "Outras análises podem ser feitas em cima dessa base de dados, como por exemplo explorar as features imbd_score, duration, color entre outras, podendo enriquecer ainda mais o conhecimento a cerca do domínio."
   ]
  }
 ],
 "metadata": {
  "colab": {
   "name": "IMDB.ipynb",
   "provenance": []
  },
  "kernelspec": {
   "display_name": "Python 3",
   "language": "python",
   "name": "python3"
  },
  "language_info": {
   "codemirror_mode": {
    "name": "ipython",
    "version": 3
   },
   "file_extension": ".py",
   "mimetype": "text/x-python",
   "name": "python",
   "nbconvert_exporter": "python",
   "pygments_lexer": "ipython3",
   "version": "3.8.8"
  }
 },
 "nbformat": 4,
 "nbformat_minor": 1
}
