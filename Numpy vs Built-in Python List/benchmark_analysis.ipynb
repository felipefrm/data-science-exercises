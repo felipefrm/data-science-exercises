{
 "cells": [
  {
   "cell_type": "markdown",
   "source": [
    "# Comparativo array 2D nativo do Python e o array 2D do Numpy"
   ],
   "metadata": {}
  },
  {
   "cell_type": "markdown",
   "source": [
    "Neste notebook será realizado uma comparação entre as listas nativas do Python e o array provido pela biblioteca Numpy. A comparação será feita levando em consideração o consumo de tempo e memória das duas abordagens.\r\n",
    "\r\n",
    "Vamos definir um conjunto de operações matriciais e implementá-las usando somente as instruções nativas do python e em seguida implementá-las utilizando a biblioteca Numpy, a fim de compará-las: \r\n",
    "\r\n",
    "- Cria um array NxN com valores aleatórios;\r\n",
    "- Calcula a transposta;\r\n",
    "- Multiplica a matriz com sua transposta;\r\n",
    "- Soma a matriz original criada com o resultado da multiplicação anterior;\r\n",
    "- Deleta 10% das linhas da matriz resultante;\r\n",
    "- Converter o array 2D em 1D;\r\n",
    "- Cria um array 1D aleatório de tamanho NxN;\r\n",
    "- Calcula a diferença entre o array 2D convertido para 1D e o array aleatório criado 1D."
   ],
   "metadata": {}
  },
  {
   "cell_type": "markdown",
   "source": [
    "## Implementação das operações"
   ],
   "metadata": {}
  },
  {
   "cell_type": "markdown",
   "source": [
    "### Python nativo"
   ],
   "metadata": {}
  },
  {
   "cell_type": "code",
   "execution_count": 1,
   "source": [
    "from random import randint\r\n",
    "\r\n",
    "def python_createRandom2DArray(N):\r\n",
    "  return [[randint(0, N) for x in range(N)] for y in range(N)]\r\n",
    "  \r\n",
    "def python_transposeArray(arr):\r\n",
    "  return list(map(list, zip(*arr)))\r\n",
    "\r\n",
    "def python_multArray(arr1, arr2):\r\n",
    "  result_array = []\r\n",
    "  for row in arr1:\r\n",
    "      new_row = []\r\n",
    "      for k in range(0, len(arr1)): \r\n",
    "          total = 0\r\n",
    "          for j in range(0, len(arr2)): \r\n",
    "              total += arr2[j][k] * row[j]\r\n",
    "          new_row.append(total)\r\n",
    "      result_array.append(new_row)\r\n",
    "  return result_array\r\n",
    "\r\n",
    "def python_sumArray(arr1, arr2):\r\n",
    "  return [[arr1[i][j] + arr2[i][j]  for j in range(len(arr1[0]))] for i in range(len(arr1))]\r\n",
    "\r\n",
    "def python_deleteLastNRows(arr, number_of_rows):\r\n",
    "  return arr[:-number_of_rows]\r\n",
    "\r\n",
    "def python_flattenArray(arr):\r\n",
    "  return [j for sub in arr for j in sub]\r\n",
    "\r\n",
    "def python_createRandom1DArray(N):\r\n",
    "  return [randint(0, N) for x in range(N)]\r\n",
    "\r\n",
    "def python_diffArrays(arr1, arr2):\r\n",
    "  return list(set(arr1).difference(set(arr2)))"
   ],
   "outputs": [],
   "metadata": {}
  },
  {
   "cell_type": "markdown",
   "source": [
    "### Numpy"
   ],
   "metadata": {}
  },
  {
   "cell_type": "code",
   "execution_count": 5,
   "source": [
    "import numpy as np\r\n",
    "\r\n",
    "def numpy_createRandom2DArray(N):\r\n",
    "  return np.random.randint(low=0, high=N, size=N*N).reshape(N, N)\r\n",
    " \r\n",
    "def numpy_transposeArray(arr):\r\n",
    "  return np.transpose(arr)\r\n",
    "\r\n",
    "def numpy_multArray(arr1, arr2):\r\n",
    "  return np.matmul(arr1, arr2)\r\n",
    "\r\n",
    "def numpy_sumArray(arr1, arr2):\r\n",
    "  return np.add(arr1, arr2)\r\n",
    "\r\n",
    "def numpy_deleteLastNRows(arr, number_of_rows):\r\n",
    "  return arr[:-number_of_rows, :]\r\n",
    "\r\n",
    "def numpy_flattenArray(arr):\r\n",
    "  return arr.flatten()\r\n",
    "\r\n",
    "def numpy_createRandom1DArray(N):\r\n",
    "  return np.random.randint(low=0, high=N, size=N)\r\n",
    "\r\n",
    "def numpy_diffArrays(arr1, arr2):\r\n",
    "  return np.setdiff1d(arr1, arr2)"
   ],
   "outputs": [],
   "metadata": {}
  },
  {
   "cell_type": "markdown",
   "source": [
    "## Benchmark"
   ],
   "metadata": {}
  },
  {
   "cell_type": "markdown",
   "source": [
    "### Testando funções"
   ],
   "metadata": {}
  },
  {
   "cell_type": "markdown",
   "source": [
    "Antes de ir propriamente para a execução da rotina de benchmark variando o tamanho da entrada, vamos antes testar nossas funções e ver se está tudo ok, com N = 2:"
   ],
   "metadata": {}
  },
  {
   "cell_type": "code",
   "execution_count": 6,
   "source": [
    "N = 2\r\n",
    "\r\n",
    "py_array = python_createRandom2DArray(2)\r\n",
    "np_array = np.array(py_array)\r\n",
    "print(py_array)\r\n",
    "print(np_array)"
   ],
   "outputs": [
    {
     "output_type": "stream",
     "name": "stdout",
     "text": [
      "[[1, 0], [1, 1]]\n",
      "[[1 0]\n",
      " [1 1]]\n"
     ]
    }
   ],
   "metadata": {}
  },
  {
   "cell_type": "code",
   "execution_count": 7,
   "source": [
    "py_transpose = python_transposeArray(py_array)\r\n",
    "np_transpose = numpy_transposeArray(np_array)\r\n",
    "\r\n",
    "print(py_transpose)\r\n",
    "print(np_transpose)"
   ],
   "outputs": [
    {
     "output_type": "stream",
     "name": "stdout",
     "text": [
      "[[1, 1], [0, 1]]\n",
      "[[1 1]\n",
      " [0 1]]\n"
     ]
    }
   ],
   "metadata": {}
  },
  {
   "cell_type": "code",
   "execution_count": 8,
   "source": [
    "py_mult = python_multArray(py_array, py_transpose)\r\n",
    "np_mult = numpy_multArray(np_array, np_transpose)\r\n",
    "\r\n",
    "print(py_mult)\r\n",
    "print(np_mult)"
   ],
   "outputs": [
    {
     "output_type": "stream",
     "name": "stdout",
     "text": [
      "[[1, 1], [1, 2]]\n",
      "[[1 1]\n",
      " [1 2]]\n"
     ]
    }
   ],
   "metadata": {}
  },
  {
   "cell_type": "code",
   "execution_count": 9,
   "source": [
    "py_add = python_sumArray(py_array, py_mult)\r\n",
    "np_add = numpy_sumArray(np_array, np_mult)\r\n",
    "\r\n",
    "print(py_add)\r\n",
    "print(np_add)"
   ],
   "outputs": [
    {
     "output_type": "stream",
     "name": "stdout",
     "text": [
      "[[2, 1], [2, 3]]\n",
      "[[2 1]\n",
      " [2 3]]\n"
     ]
    }
   ],
   "metadata": {}
  },
  {
   "cell_type": "code",
   "execution_count": 10,
   "source": [
    "py_array_after_delete = python_deleteLastNRows(py_add, 1)\r\n",
    "np_array_after_delete = numpy_deleteLastNRows(np_add, 1)\r\n",
    "\r\n",
    "print(py_array_after_delete)\r\n",
    "print(np_array_after_delete)"
   ],
   "outputs": [
    {
     "output_type": "stream",
     "name": "stdout",
     "text": [
      "[[2, 1]]\n",
      "[[2 1]]\n"
     ]
    }
   ],
   "metadata": {}
  },
  {
   "cell_type": "code",
   "execution_count": 11,
   "source": [
    "py_flatten = python_flattenArray(py_array_after_delete)\r\n",
    "np_flatten = numpy_flattenArray(np_array_after_delete)\r\n",
    "\r\n",
    "print(py_flatten)\r\n",
    "print(np_flatten)"
   ],
   "outputs": [
    {
     "output_type": "stream",
     "name": "stdout",
     "text": [
      "[2, 1]\n",
      "[2 1]\n"
     ]
    }
   ],
   "metadata": {}
  },
  {
   "cell_type": "code",
   "execution_count": 12,
   "source": [
    "py_random_array1d = python_createRandom1DArray(N*N)\r\n",
    "np_random_array1d = numpy_createRandom1DArray(N*N)\r\n",
    "\r\n",
    "print(py_random_array1d)\r\n",
    "print(np_random_array1d)"
   ],
   "outputs": [
    {
     "output_type": "stream",
     "name": "stdout",
     "text": [
      "[0, 1, 2, 3]\n",
      "[1 0 1 0]\n"
     ]
    }
   ],
   "metadata": {}
  },
  {
   "cell_type": "code",
   "execution_count": 13,
   "source": [
    "py_diff = python_diffArrays(py_random_array1d, py_flatten)\r\n",
    "np_diff = numpy_diffArrays(np_random_array1d, np_flatten)\r\n",
    "\r\n",
    "print(py_diff)\r\n",
    "print(np_diff)"
   ],
   "outputs": [
    {
     "output_type": "stream",
     "name": "stdout",
     "text": [
      "[0, 3]\n",
      "[0]\n"
     ]
    }
   ],
   "metadata": {}
  },
  {
   "cell_type": "markdown",
   "source": [
    "As operações implementadas está funcionando corretamente, podemos agora envolver todas as operações criadas em uma função única que chamaremos de função benchmark."
   ],
   "metadata": {}
  },
  {
   "cell_type": "markdown",
   "source": [
    "### Definindo a função benchmark"
   ],
   "metadata": {}
  },
  {
   "cell_type": "markdown",
   "source": [
    "Vamos definir a função que irá calcular sequencialmente os métodos definidos anteriormente, e calcular o tempo gasto para executar cada um deles, bem como o tempo total para executar toda a função benchmark:"
   ],
   "metadata": {}
  },
  {
   "cell_type": "code",
   "execution_count": 14,
   "source": [
    "import time\r\n",
    "\r\n",
    "# Python\r\n",
    "def python_benchmark(N):\r\n",
    "\r\n",
    "  time_elapsed = dict()\r\n",
    "\r\n",
    "  start_benchmark = time.time()\r\n",
    "\r\n",
    "  start_create2d = time.time()\r\n",
    "  array = python_createRandom2DArray(N)\r\n",
    "  time_elapsed['create2d'] = time.time() - start_create2d\r\n",
    "\r\n",
    "  start_transpose = time.time()\r\n",
    "  array_t = python_transposeArray(array)\r\n",
    "  time_elapsed['tranpose'] = time.time() - start_transpose\r\n",
    "\r\n",
    "  start_mult = time.time()\r\n",
    "  array_mult = python_multArray(array, array_t)\r\n",
    "  time_elapsed['mult'] = time.time() - start_mult\r\n",
    "\r\n",
    "  start_sum = time.time()\r\n",
    "  array_add = python_sumArray(array, array_mult)\r\n",
    "  time_elapsed['sum'] = time.time() - start_sum\r\n",
    "\r\n",
    "  start_delete = time.time()\r\n",
    "  array_after_delete = python_deleteLastNRows(array_add, int(round(0.1*N)))\r\n",
    "  time_elapsed['delete'] = time.time() - start_delete\r\n",
    "\r\n",
    "  start_flatten = time.time()\r\n",
    "  array_1d = python_flattenArray(array_after_delete)\r\n",
    "  time_elapsed['flatten'] = time.time() - start_flatten\r\n",
    "\r\n",
    "  start_create1d = time.time()\r\n",
    "  random_array_1d = python_createRandom1DArray(N*N)\r\n",
    "  time_elapsed['create1d'] = time.time() - start_create1d\r\n",
    "\r\n",
    "  start_diff= time.time()\r\n",
    "  array_diff = python_diffArrays(array_1d, random_array_1d)\r\n",
    "  time_elapsed['diff'] = time.time() - start_diff\r\n",
    "\r\n",
    "  time_elapsed['benchmark'] = time.time() - start_benchmark\r\n",
    "\r\n",
    "  return time_elapsed\r\n",
    "\r\n",
    "# Numpy\r\n",
    "def numpy_benchmark(N):\r\n",
    "  \r\n",
    "  time_elapsed = dict()\r\n",
    "\r\n",
    "  start_benchmark = time.time()\r\n",
    "\r\n",
    "  start_create2d = time.time()\r\n",
    "  array = numpy_createRandom2DArray(N)\r\n",
    "  time_elapsed['create2d'] = time.time() - start_create2d\r\n",
    "\r\n",
    "  start_transpose = time.time() \r\n",
    "  array_t = numpy_transposeArray(array)\r\n",
    "  time_elapsed['tranpose'] = time.time() - start_transpose\r\n",
    "\r\n",
    "  start_mult = time.time()\r\n",
    "  array_mult = numpy_multArray(array, array_t)\r\n",
    "  time_elapsed['mult'] = time.time() - start_mult\r\n",
    "\r\n",
    "  start_sum = time.time()\r\n",
    "  array_add = numpy_sumArray(array, array_mult)\r\n",
    "  time_elapsed['sum'] = time.time() - start_sum\r\n",
    "\r\n",
    "  start_delete = time.time()\r\n",
    "  array_after_delete = numpy_deleteLastNRows(array_add, int(round(0.1*N)))\r\n",
    "  time_elapsed['delete'] = time.time() - start_delete\r\n",
    "\r\n",
    "  start_flatten = time.time()\r\n",
    "  array_1d = numpy_flattenArray(array_after_delete)\r\n",
    "  time_elapsed['flatten'] = time.time() - start_flatten\r\n",
    "\r\n",
    "  start_create1d = time.time()\r\n",
    "  random_array_1d = numpy_createRandom1DArray(N*N)\r\n",
    "  time_elapsed['create1d'] = time.time() - start_create1d\r\n",
    "\r\n",
    "  start_diff = time.time()\r\n",
    "  array_diff = numpy_diffArrays(array_1d, random_array_1d)\r\n",
    "  time_elapsed['diff'] = time.time() - start_diff\r\n",
    "\r\n",
    "  time_elapsed['benchmark'] = time.time() - start_benchmark\r\n",
    "\r\n",
    "  return time_elapsed\r\n",
    "\r\n"
   ],
   "outputs": [],
   "metadata": {}
  },
  {
   "cell_type": "markdown",
   "source": [
    "### Comparação de performance"
   ],
   "metadata": {}
  },
  {
   "cell_type": "markdown",
   "source": [
    "Podemos agora, executar nossas duas funções benchmark variando o tamanho da entrada e armazenar o resultado para em seguida plotá-lo graficamente:"
   ],
   "metadata": {}
  },
  {
   "cell_type": "code",
   "execution_count": 15,
   "source": [
    "def calculate_dict_mean_values(arr):\r\n",
    "  return {k: (arr[0].get(k, 0) + arr[1].get(k, 0) + arr[2].get(k, 0))/3 for k in set(arr[0]) | set(arr[1]) | set(arr[2])}"
   ],
   "outputs": [],
   "metadata": {}
  },
  {
   "cell_type": "code",
   "execution_count": 16,
   "source": [
    "N = [10, 100, 1000]\r\n",
    "\r\n",
    "python = dict()\r\n",
    "numpy = dict()\r\n",
    "\r\n",
    "for n in N:\r\n",
    "  execution_time_python = []\r\n",
    "  execution_time_numpy = []\r\n",
    "  for i in range(3):\r\n",
    "    execution_time_python.append(python_benchmark(n))\r\n",
    "    execution_time_numpy.append(numpy_benchmark(n))\r\n",
    "  python[n] = calculate_dict_mean_values(execution_time_python)\r\n",
    "  numpy[n] = calculate_dict_mean_values(execution_time_numpy)"
   ],
   "outputs": [],
   "metadata": {}
  },
  {
   "cell_type": "markdown",
   "source": [
    "Preparando os dados para a plotagem:"
   ],
   "metadata": {}
  },
  {
   "cell_type": "code",
   "execution_count": 17,
   "source": [
    "from collections import defaultdict\r\n",
    "\r\n",
    "def merge_dict_keys(dictionary):\r\n",
    "\r\n",
    "    dd = defaultdict(list)\r\n",
    "\r\n",
    "    for d in (dictionary[10], dictionary[100], dictionary[1000]): # you can list as many input dicts as you want here\r\n",
    "        for key, value in d.items():\r\n",
    "            dd[key].append(value)\r\n",
    "\r\n",
    "    dd = dict(dd)\r\n",
    "\r\n",
    "    return dd"
   ],
   "outputs": [],
   "metadata": {}
  },
  {
   "cell_type": "code",
   "execution_count": 18,
   "source": [
    "python_results = merge_dict_keys(python)\r\n",
    "numpy_results = merge_dict_keys(numpy)\r\n",
    "\r\n",
    "print(python_results)\r\n",
    "print(numpy_results)"
   ],
   "outputs": [
    {
     "output_type": "stream",
     "name": "stdout",
     "text": [
      "{'create1d': [0.0006666978200276693, 0.02333354949951172, 2.2410600980122886], 'delete': [0.0, 0.0, 0.0], 'create2d': [0.00033291180928548175, 0.027660051981608074, 2.1179006894429526], 'benchmark': [0.0013326009114583333, 0.33663121859232586, 318.40001289049786], 'flatten': [0.0, 0.0, 0.06493910153706868], 'sum': [0.0, 0.003345648447672526, 0.30759119987487793], 'diff': [0.0, 0.0032994747161865234, 0.8461600144704183], 'tranpose': [0.0, 0.0, 0.10232933362325032], 'mult': [0.0003329912821451823, 0.278992493947347, 312.71970081329346]}\n",
      "{'create1d': [0.0, 0.0006681283315022787, 0.01730497678120931], 'delete': [0.0, 0.0, 0.0003337860107421875], 'create2d': [0.0, 0.0, 0.00923482577006022], 'benchmark': [0.0, 0.004372358322143555, 2.619595686594645], 'flatten': [0.0, 0.0, 0.0013415018717447917], 'sum': [0.0, 0.0, 0.002651691436767578], 'diff': [0.0, 0.001374642054239909, 0.20135347048441568], 'tranpose': [0.0, 0.0, 0.0], 'mult': [0.0, 0.002329587936401367, 2.3873754342397056]}\n"
     ]
    }
   ],
   "metadata": {}
  },
  {
   "cell_type": "markdown",
   "source": [
    "Vamos então plotar os gráficos:"
   ],
   "metadata": {}
  },
  {
   "cell_type": "code",
   "execution_count": 19,
   "source": [
    "import matplotlib.pyplot as plt\r\n",
    "\r\n",
    "operations = list(python_results.keys())\r\n",
    "\r\n",
    "fig, axs = plt.subplots(3, 3, figsize=(12, 12)) \r\n",
    "fig.subplots_adjust(0.125, 0.1, 0.9, 0.9, 0.4, 0.4)\r\n",
    "\r\n",
    "for op, ax in zip(operations, axs.ravel()):\r\n",
    "    ax.plot(N, python_results[op], label=\"Python\")\r\n",
    "    ax.plot(N, numpy_results[op], label=\"Numpy\")\r\n",
    "    ax.set(xlabel='N', ylabel='Tempo (segundos)')\r\n",
    "    ax.set_title(op)\r\n",
    "    ax.set_xscale('log')\r\n",
    "    ax.legend()\r\n",
    "plt.show()\r\n",
    "\r\n"
   ],
   "outputs": [
    {
     "output_type": "display_data",
     "data": {
      "image/png": "[encoded data removed]",
      "text/plain": [
       "<Figure size 864x864 with 9 Axes>"
      ]
     },
     "metadata": {
      "needs_background": "light"
     }
    }
   ],
   "metadata": {}
  },
  {
   "cell_type": "markdown",
   "source": [
    "Foi executado a função benchmark do Python e do Numpy 3 vezes, e foi tirado a média do tempo gasto para a execução das funções. O tamanho da entrada (N) foi variado aumentando a ordem de grandeza, [10, 100, 1000], com N = 1000 (ou seja, 1000*1000 = 1,000,000 elementos na matriz) a função benchmark do Python sem Numpy levou mais de 250 segundos para terminar a execução.\r\n",
    "\r\n",
    "Como podemos notar a partir da observação dos gráficos, em todas as operações com matrizes a implementação com o Numpy sobressaiu em cima do Python sem Numpy. A medida que aumenta a ordem de grandeza do tamanho da matriz a diferença de tempo entre as duas implementações é ainda maior, mostrando a vantagem em utilizar as ferramentas disponibilizadas pela biblioteca Numpy para manipulação de vetores e matrizes de tamanho consideravelmente grande (ordem de grandeza igual ou maior que 10^2), que é o caso da maioria dos dados alvos dos estudos em ciência de dados, área da computação esta que utiliza com extrema frequência vetores e matrizes, uma vez que a velocidade de processamento e a disponibilização recursos poderosos são muito almejados no data science.\r\n",
    "\r\n",
    "Mas porque Numpy é mais rápido que as listas do Python? Os arrays Numpy são armazenados em um local contínuo na memória, ao contrário das listas, de modo que os processos podem acessá-los e manipulá-los de maneira muito eficiente. Esse comportamento é denominado localidade de referência em informática. Sendo esta a principal razão pela qual o Numpy é mais rápido do que as listas nativas do Python. Também é otimizado para funcionar com as arquiteturas de CPU mais recentes."
   ],
   "metadata": {}
  },
  {
   "cell_type": "markdown",
   "source": [
    "Para compararmos as duas abordagens quanto ao consumo de memória, podemos utilizar a função memory_usage da biblioteca memory_profiler para obtermos o uso de memória do sistema a cada segundo de execução da função passada como parâmetro. Abaixo, vamos analisar o pico de uso de memória para cada implementação, variando o tamanho de N em 10, 100 e 1000:"
   ],
   "metadata": {}
  },
  {
   "cell_type": "code",
   "execution_count": 28,
   "source": [
    "from memory_profiler import memory_usage\r\n",
    "\r\n",
    "mem_usage = memory_usage((python_benchmark, [10]))\r\n",
    "print('Pico de uso de memória durante execução da função Python: %s' % max(mem_usage))\r\n",
    "\r\n",
    "mem_usage = memory_usage((numpy_benchmark, [10]))\r\n",
    "print('Pico de uso de memória durante execução da função Numpy: %s' % max(mem_usage))"
   ],
   "outputs": [
    {
     "output_type": "stream",
     "name": "stdout",
     "text": [
      "Pico de uso de memória durante execução da função Python: 117.98046875\n",
      "Pico de uso de memória durante execução da função Numpy: 117.984375\n"
     ]
    }
   ],
   "metadata": {}
  },
  {
   "cell_type": "code",
   "execution_count": 27,
   "source": [
    "from memory_profiler import memory_usage\r\n",
    "\r\n",
    "mem_usage = memory_usage((python_benchmark, [100]))\r\n",
    "print('Pico de uso de memória durante execução da função Python: %s' % max(mem_usage))\r\n",
    "\r\n",
    "mem_usage = memory_usage((numpy_benchmark, [100]))\r\n",
    "print('Pico de uso de memória durante execução da função Numpy: %s' % max(mem_usage))"
   ],
   "outputs": [
    {
     "output_type": "stream",
     "name": "stdout",
     "text": [
      "Pico de uso de memória durante execução da função Python: 119.74609375\n",
      "Pico de uso de memória durante execução da função Numpy: 117.9765625\n"
     ]
    }
   ],
   "metadata": {}
  },
  {
   "cell_type": "code",
   "execution_count": 23,
   "source": [
    "from memory_profiler import memory_usage\r\n",
    "\r\n",
    "mem_usage = memory_usage((python_benchmark, [1000]))\r\n",
    "print('Pico de uso de memória durante execução da função Python: %s' % max(mem_usage))\r\n",
    "\r\n",
    "mem_usage = memory_usage((numpy_benchmark, [1000]))\r\n",
    "print('Pico de uso de memória durante execução da função Numpy: %s' % max(mem_usage))"
   ],
   "outputs": [
    {
     "output_type": "stream",
     "name": "stdout",
     "text": [
      "Pico de uso de memória durante execução da função Python: 384.3046875\n",
      "Pico de uso de memória durante execução da função Numpy: 148.296875\n"
     ]
    }
   ],
   "metadata": {}
  },
  {
   "cell_type": "markdown",
   "source": [
    "Bom, percebemos que para N=10 e N=100 o consumo de memória foi semelhante para as duas implementações, porém para N=100 a implementação com Numpy consumiu menos da metade do que foi consumido pelo Python puro.\r\n",
    "\r\n",
    "Podemos analisar o consumo de memória de uma outra forma também, considerando somente o array que está sendo manipulado, não considerando outras atribuições e operações auxiliares. Isto é, podemos criar um array aleatório com as listas do Python puro e um com o Numpy, e seguida, calcular o tamanho em bytes destes arrays. Vamos fazer isso a seguir:"
   ],
   "metadata": {}
  },
  {
   "cell_type": "code",
   "execution_count": 91,
   "source": [
    "import sys\r\n",
    "\r\n",
    "size_array = []\r\n",
    "for i in range(5):\r\n",
    "  size_array.append(10**i)\r\n",
    "\r\n",
    "sizeof_py_array = []\r\n",
    "sizeof_np_array = []\r\n",
    "for size in size_array:\r\n",
    "  py_array = python_createRandom2DArray(size)\r\n",
    "  np_array = numpy_createRandom2DArray(size)\r\n",
    "  sizeof_py_array.append(sys.getsizeof(py_array[0])*len(py_array))\r\n",
    "  sizeof_np_array.append(np_array.itemsize*np_array.size)\r\n",
    "\r\n",
    "print(sizeof_py_array)\r\n",
    "print(sizeof_np_array)\r\n"
   ],
   "outputs": [
    {
     "output_type": "stream",
     "name": "stdout",
     "text": [
      "[88, 1840, 90400, 9016000, 876160000]\n",
      "[4, 400, 40000, 4000000, 400000000]\n"
     ]
    }
   ],
   "metadata": {}
  },
  {
   "cell_type": "code",
   "execution_count": 93,
   "source": [
    "fig, axs = plt.subplots(2, 2, figsize=(12, 12)) \r\n",
    "fig.subplots_adjust(0.125, 0.1, 0.9, 0.9, 0.4, 0.4)\r\n",
    "\r\n",
    "for n, ax in zip(size_array, axs.ravel()):\r\n",
    "    ax.plot(size_array, sizeof_py_array, label=\"Python\")\r\n",
    "    ax.plot(size_array, sizeof_np_array, label=\"Numpy\")\r\n",
    "    ax.set(xlabel='N', ylabel='Bytes')\r\n",
    "    ax.set_xscale('log')\r\n",
    "    ax.legend()\r\n",
    "plt.show()"
   ],
   "outputs": [
    {
     "output_type": "display_data",
     "data": {
      "image/png": "[encoded data removed]",
      "text/plain": [
       "<Figure size 864x864 with 4 Axes>"
      ]
     },
     "metadata": {
      "needs_background": "light"
     }
    }
   ],
   "metadata": {}
  },
  {
   "cell_type": "markdown",
   "source": [
    "Como podemos observar, os arrays do Numpy consomem significativamente menos memória em comparação com as listas python a medida que N aumenta. É possível inclusive especificar o tipo dos dados contidos no array, permitindo um consumo ainda menor de memória. Por exemplo:"
   ],
   "metadata": {}
  },
  {
   "cell_type": "code",
   "execution_count": 92,
   "source": [
    "# Elementos limitados a 1 byte\r\n",
    "numpy_arr = np.array([1,2,3,4,5,6], dtype = np.int8)\r\n",
    "sizeof_numpy_arr = numpy_arr.itemsize * numpy_arr.size  \r\n",
    "print(sizeof_numpy_arr)\r\n",
    "\r\n",
    "# Elementos limitados a 2 byte\r\n",
    "numpy_arr = np.array([1,2,3,4,5,6], dtype = np.int16)\r\n",
    "sizeof_numpy_arr = numpy_arr.itemsize * numpy_arr.size \r\n",
    "print(sizeof_numpy_arr)"
   ],
   "outputs": [
    {
     "output_type": "stream",
     "name": "stdout",
     "text": [
      "6\n",
      "12\n"
     ]
    }
   ],
   "metadata": {}
  },
  {
   "cell_type": "markdown",
   "source": [
    "O Numpy por padrão considera 8 bytes para inteiros, no entanto, podemos especificar o tipos de dados que iremos trabalhar na matriz caso tenhamos um conhecimento do valor do maior elemento do conjunto de dados. Por exemplo, podemos usar um inteiro de 1 byte para armazenar números até 255 e um inteiro de 2 bytes para números até 65535."
   ],
   "metadata": {}
  },
  {
   "cell_type": "markdown",
   "source": [
    "## Considerações finais"
   ],
   "metadata": {}
  },
  {
   "cell_type": "markdown",
   "source": [
    "Concluimos aqui a nossa comparação entre as listas nativas do Python e os arrays multidimensionais disponibilizados pela poderosa biblioteca Numpy. Como consideração final, podemos afirmar que a biblioteca Numpy é extremamente vantajosa quando se pretende trabalhar com um grande volume de dados, dado o rápido tempo de processamento quando comparado as listas nativas da linguagem e o baixo consumo de memória quando também comparado com as listas do Python. Além de oferecer diversos recursos extras que facilitam a escrita e a produtividade do desenvolvedor/analista que não estão presentes nativamente no Python."
   ],
   "metadata": {}
  }
 ],
 "metadata": {
  "orig_nbformat": 4,
  "language_info": {
   "name": "python",
   "version": "3.8.11",
   "mimetype": "text/x-python",
   "codemirror_mode": {
    "name": "ipython",
    "version": 3
   },
   "pygments_lexer": "ipython3",
   "nbconvert_exporter": "python",
   "file_extension": ".py"
  },
  "kernelspec": {
   "name": "python3",
   "display_name": "Python 3.8.11 64-bit ('base': conda)"
  },
  "interpreter": {
   "hash": "575c858066fb107161e6d07f33cfe6fccf09a248d406505ce32e9429f4d08601"
  }
 },
 "nbformat": 4,
 "nbformat_minor": 2
}